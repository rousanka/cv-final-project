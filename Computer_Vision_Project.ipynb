{
  "cells": [
    {
      "attachments": {},
      "cell_type": "markdown",
      "metadata": {
        "colab_type": "text",
        "id": "view-in-github"
      },
      "source": [
        "<a href=\"https://colab.research.google.com/github/rousanka/cv-final-project/blob/main/Computer_Vision_Project.ipynb\" target=\"_parent\"><img src=\"https://colab.research.google.com/assets/colab-badge.svg\" alt=\"Open In Colab\"/></a>"
      ]
    },
    {
      "cell_type": "code",
      "execution_count": 1,
      "metadata": {
        "colab": {
          "base_uri": "https://localhost:8080/"
        },
        "id": "5RQrHBbyPRrZ",
        "outputId": "ba2f941b-2b1c-4699-80e0-e65636b1702f"
      },
      "outputs": [],
      "source": [
        "#from google.colab import drive\n",
        "#drive.mount('/content/drive/', force_remount=True)\n",
        "\n",
        "#from os import path\n",
        "\n",
        "# nazwa archiwum do dostosowania\n",
        "# !unzip '/content/drive/MyDrive/archive.zip'"
      ]
    },
    {
      "cell_type": "code",
      "execution_count": 8,
      "metadata": {},
      "outputs": [
        {
          "name": "stdout",
          "output_type": "stream",
          "text": [
            " Volume in drive D is USER\n",
            " Volume Serial Number is 0245-92F8\n",
            "\n",
            " Directory of d:\\Doc\\Priv\\ARPDataPL\\Notatki\\15_Computer_Vision_Projekt\\celeba\n",
            "\n",
            "17/06/2023  11:20    <DIR>          .\n",
            "17/06/2023  11:20    <DIR>          ..\n",
            "17/06/2023  10:43    <DIR>          img_align_celeba\n",
            "01/10/2019  08:52        24�913�339 list_attr_celeba.csv\n",
            "01/10/2019  08:52         5�390�926 list_bbox_celeba.csv\n",
            "01/10/2019  08:52         2�836�404 list_eval_partition.csv\n",
            "01/10/2019  08:52         9�932�092 list_landmarks_align_celeba.csv\n",
            "               4 File(s)     43�072�761 bytes\n",
            "               3 Dir(s)  73�473�425�408 bytes free\n"
          ]
        }
      ],
      "source": [
        "!dir ..\\celeba"
      ]
    },
    {
      "cell_type": "code",
      "execution_count": 3,
      "metadata": {
        "colab": {
          "base_uri": "https://localhost:8080/"
        },
        "id": "YgP0L-0_HGmZ",
        "outputId": "efb829a9-e1ec-4322-e494-cf9ab2453077"
      },
      "outputs": [],
      "source": [
        "#!pip install ydata_profiling\n",
        "import pandas as pd\n",
        "from ydata_profiling import ProfileReport\n",
        "import matplotlib.pyplot as plt\n",
        "import cv2\n",
        "import numpy as np\n",
        "import keras\n",
        "import tensorflow as tf\n",
        "import numpy as np\n",
        "import imgaug.augmenters as iaa"
      ]
    },
    {
      "cell_type": "code",
      "execution_count": 10,
      "metadata": {
        "id": "RWjElpNCHMBv"
      },
      "outputs": [],
      "source": [
        "class Dataset:\n",
        "    def __init__(self,\n",
        "                 list_attr_celeba_path=\"..\\celeba\\list_attr_celeba.csv\",\n",
        "                 list_bbox_celeba_path=\"..\\celeba\\list_bbox_celeba.csv\",\n",
        "                 list_eval_partition_path=\"..\\celeba\\list_eval_partition.csv\",\n",
        "                 list_landmarks_align_celeba_path=\"..\\celeba\\list_landmarks_align_celeba.csv\",\n",
        "                 images_path=\"..\\celeba\\img_align_celeba/img_align_celeba/\"\n",
        "                 ):\n",
        "\n",
        "        # uncomment\n",
        "        list_attr_celeba = pd.read_csv(list_attr_celeba_path)\n",
        "        list_bbox_celeba = pd.read_csv(list_bbox_celeba_path)\n",
        "        list_eval_partition = pd.read_csv(list_eval_partition_path)\n",
        "        list_landmarks_align_celeba = pd.read_csv(list_landmarks_align_celeba_path)\n",
        "\n",
        "        df = list_attr_celeba.merge(list_bbox_celeba, on='image_id')\n",
        "        df = df.merge(list_bbox_celeba, on='image_id')\n",
        "        df = df.merge(list_eval_partition, on='image_id')\n",
        "        self.df = df.merge(list_landmarks_align_celeba, on='image_id')\n",
        "        self.images_path = images_path\n",
        "\n",
        "    def generate_report(self, report_name='your_report'):\n",
        "        profile = ProfileReport(self.df, title=\"Pandas Profiling Report\")\n",
        "        profile.to_file(f\"{report_name}.html\")\n",
        "\n",
        "    def show_some_examples(self, attribute: str, positive: bool = True):\n",
        "        \"\"\"\n",
        "        Quick visualization of some examples\n",
        "\n",
        "        :param attribute: One of boolean attribute:\n",
        "        '5_o_Clock_Shadow', 'Arched_Eyebrows', 'Attractive', 'Bags_Under_Eyes', 'Bald', 'Bangs', 'Big_Lips', 'Big_Nose',\n",
        "        'Black_Hair', 'Blond_Hair', 'Blurry', 'Brown_Hair', 'Bushy_Eyebrows','Chubby', 'Double_Chin', 'Eyeglasses',\n",
        "        'Goatee', 'Gray_Hair', 'Heavy_Makeup', 'High_Cheekbones', 'Male', 'Mouth_Slightly_Open', 'Mustache',\n",
        "        'Narrow_Eyes', 'No_Beard', 'Oval_Face', 'Pale_Skin', 'Pointy_Nose', 'Receding_Hairline', 'Rosy_Cheeks',\n",
        "        'Sideburns', 'Smiling', 'Straight_Hair', 'Wavy_Hair', 'Wearing_Earrings', 'Wearing_Hat', 'Wearing_Lipstick',\n",
        "        'Wearing_Necklace', 'Wearing_Necktie', 'Young'\n",
        "        :type attribute: str\n",
        "        :param positive: show positive examples or not (negative if false)\n",
        "        :type positive: boolean\n",
        "        :return: None\n",
        "        :rtype: None\n",
        "        \"\"\"\n",
        "        print(self.df.columns)\n",
        "        if positive:\n",
        "            exist = 1\n",
        "        else:\n",
        "            exist = -1\n",
        "\n",
        "        df = self.df[self.df[attribute] == exist]\n",
        "        images = list(df.head(9)['image_id'])\n",
        "        images = [cv2.imread(self.images_path+path) for path in images]\n",
        "        horizontal_1 = np.concatenate((images[0], images[1], images[2]), axis=1)\n",
        "        horizontal_2 = np.concatenate((images[3], images[4], images[5]), axis=1)\n",
        "        horizontal_3 = np.concatenate((images[6], images[7], images[8]), axis=1)\n",
        "        vertical = np.concatenate((horizontal_1, horizontal_2, horizontal_3), axis=0)\n",
        "        # plot first few images\n",
        "        # define subplot\n",
        "        plt.subplot(330 + 1 + 0)\n",
        "        # plot raw pixel data\n",
        "        plt.imshow(vertical)"
      ]
    },
    {
      "cell_type": "code",
      "execution_count": 11,
      "metadata": {
        "id": "NMMchvZUHQA-"
      },
      "outputs": [],
      "source": [
        "class DataGenerator(tf.keras.utils.Sequence):\n",
        "    \"\"\"Generates data for Keras\"\"\"\n",
        "\n",
        "    def __init__(self, images, labels, batch_size=8, shuffle=False, augment=False):\n",
        "        self.labels = labels  # array of labels\n",
        "        self.images = images  # array of images\n",
        "        self.batch_size = batch_size  # batch size\n",
        "        self.shuffle = shuffle  # shuffle bool\n",
        "        self.augment = augment  # augment data bool\n",
        "        self.on_epoch_end()\n",
        "\n",
        "    def __len__(self):\n",
        "        'Denotes the number of batches per epoch'\n",
        "        return int(np.floor(len(self.images) / self.batch_size))\n",
        "\n",
        "    def on_epoch_end(self):\n",
        "        'Updates indexes after each epoch'\n",
        "        self.indexes = np.arange(len(self.images))\n",
        "        if self.shuffle:\n",
        "            np.random.shuffle(self.indexes)\n",
        "\n",
        "    def __getitem__(self, index):\n",
        "        'Generate one batch of data'\n",
        "        # selects indices of data for next batch\n",
        "        indexes = self.indexes[index * self.batch_size: (index + 1) * self.batch_size]\n",
        "\n",
        "        # select data and load images\n",
        "        labels = np.array([self.labels[k] for k in indexes])\n",
        "        images = np.array([self.images[k] for k in indexes])\n",
        "\n",
        "        # preprocess and augment data\n",
        "        if self.augment:\n",
        "            images = self.augmentor(images)\n",
        "\n",
        "        images = images / 255\n",
        "        return images, labels\n",
        "\n",
        "    @staticmethod\n",
        "    def augmentor(images):\n",
        "        \"\"\"Apply data augmentation\"\"\"\n",
        "        def sometimes(aug):\n",
        "            return iaa.Sometimes(0.5, aug)\n",
        "        list_of_aumgenters = []\n",
        "        list_of_aumgenters.extend([sometimes(iaa.Crop(px=(1, 16), keep_size=True)),\n",
        "                                   sometimes(iaa.Fliplr(0.5)),\n",
        "                                   sometimes(iaa.GaussianBlur(sigma=(0, 3.0)))])\n",
        "\n",
        "        seq = iaa.Sequential(list_of_aumgenters)\n",
        "\n",
        "        return seq.augment_images(images)"
      ]
    },
    {
      "cell_type": "code",
      "execution_count": 12,
      "metadata": {
        "id": "xrjMCDD3Kvqi"
      },
      "outputs": [],
      "source": [
        "classification_dataset = Dataset() #definicja klasy Dataset"
      ]
    },
    {
      "cell_type": "code",
      "execution_count": 13,
      "metadata": {
        "colab": {
          "base_uri": "https://localhost:8080/",
          "height": 417
        },
        "id": "r1EW_Jc5VO8N",
        "outputId": "4aefe792-466e-4721-c820-1c46b5b06629"
      },
      "outputs": [
        {
          "name": "stdout",
          "output_type": "stream",
          "text": [
            "Index(['image_id', '5_o_Clock_Shadow', 'Arched_Eyebrows', 'Attractive',\n",
            "       'Bags_Under_Eyes', 'Bald', 'Bangs', 'Big_Lips', 'Big_Nose',\n",
            "       'Black_Hair', 'Blond_Hair', 'Blurry', 'Brown_Hair', 'Bushy_Eyebrows',\n",
            "       'Chubby', 'Double_Chin', 'Eyeglasses', 'Goatee', 'Gray_Hair',\n",
            "       'Heavy_Makeup', 'High_Cheekbones', 'Male', 'Mouth_Slightly_Open',\n",
            "       'Mustache', 'Narrow_Eyes', 'No_Beard', 'Oval_Face', 'Pale_Skin',\n",
            "       'Pointy_Nose', 'Receding_Hairline', 'Rosy_Cheeks', 'Sideburns',\n",
            "       'Smiling', 'Straight_Hair', 'Wavy_Hair', 'Wearing_Earrings',\n",
            "       'Wearing_Hat', 'Wearing_Lipstick', 'Wearing_Necklace',\n",
            "       'Wearing_Necktie', 'Young', 'x_1_x', 'y_1_x', 'width_x', 'height_x',\n",
            "       'x_1_y', 'y_1_y', 'width_y', 'height_y', 'partition', 'lefteye_x',\n",
            "       'lefteye_y', 'righteye_x', 'righteye_y', 'nose_x', 'nose_y',\n",
            "       'leftmouth_x', 'leftmouth_y', 'rightmouth_x', 'rightmouth_y'],\n",
            "      dtype='object')\n"
          ]
        },
        {
          "data": {
            "image/png": "[encoded data removed]",
            "text/plain": [
              "<Figure size 640x480 with 1 Axes>"
            ]
          },
          "metadata": {},
          "output_type": "display_data"
        }
      ],
      "source": [
        "classification_dataset.show_some_examples('5_o_Clock_Shadow') #Podgląd kilku obrazów z tym samym atrybutem"
      ]
    },
    {
      "cell_type": "code",
      "execution_count": null,
      "metadata": {},
      "outputs": [],
      "source": []
    }
  ],
  "metadata": {
    "accelerator": "GPU",
    "colab": {
      "gpuType": "T4",
      "include_colab_link": true,
      "provenance": []
    },
    "kernelspec": {
      "display_name": "Python 3",
      "name": "python3"
    },
    "language_info": {
      "codemirror_mode": {
        "name": "ipython",
        "version": 3
      },
      "file_extension": ".py",
      "mimetype": "text/x-python",
      "name": "python",
      "nbconvert_exporter": "python",
      "pygments_lexer": "ipython3",
      "version": "3.10.11"
    }
  },
  "nbformat": 4,
  "nbformat_minor": 0
}
